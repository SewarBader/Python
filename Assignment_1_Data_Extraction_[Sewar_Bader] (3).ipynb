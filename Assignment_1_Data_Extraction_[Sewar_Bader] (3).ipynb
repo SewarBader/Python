{
  "nbformat": 4,
  "nbformat_minor": 0,
  "metadata": {
    "colab": {
      "provenance": [],
      "collapsed_sections": [
        "kclI744MUtks",
        "tAUk0CVwUyAF",
        "vT8D-EzaU18P"
      ]
    },
    "kernelspec": {
      "name": "python3",
      "display_name": "Python 3"
    },
    "language_info": {
      "name": "python"
    }
  },
  "cells": [
    {
      "cell_type": "markdown",
      "source": [
        "# **Extract Element from the Data Structures**\n",
        "\n",
        "\n",
        "\n",
        "---\n",
        "\n",
        "![image.png](data:image/png;base64,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)"
      ],
      "metadata": {
        "id": "cXZBiHP8YoYT"
      }
    },
    {
      "cell_type": "markdown",
      "source": [
        "# **Task 1**"
      ],
      "metadata": {
        "id": "kclI744MUtks"
      }
    },
    {
      "cell_type": "markdown",
      "source": [
        "**For the given list:**"
      ],
      "metadata": {
        "id": "XZgwVsvhVK-s"
      }
    },
    {
      "cell_type": "code",
      "source": [
        "L = ['A', ['BB', ['CCC', 'DDD'], 'EE', (\"IIII\", \"JJJJ\", (\"KKKKK\", \"LLLLL\")), 'FF'], 'G', 'H']\n",
        "\n"
      ],
      "metadata": {
        "id": "OblBObGwI8Vi"
      },
      "execution_count": null,
      "outputs": []
    },
    {
      "cell_type": "markdown",
      "source": [
        "> **Extract the following items from the list:**\n",
        "\n",
        "> 1.  BB\n",
        "2.  G\n",
        "3.  CCC\n",
        "4.  ['CCC', 'DDD']\n",
        "5.  IIII\n",
        "6.  LLLLL\n",
        "7.  (\"IIII\", \"JJJJ\", (\"KKKKK\", \"LLLLL\"))\n",
        "8.  ['CCC', 'DDD'], 'EE'\n",
        "9.  [['CCC', 'DDD'], (\"IIII\", \"JJJJ\", (\"KKKKK\", \"LLLLL\"))]"
      ],
      "metadata": {
        "id": "tpOTAdqaVPCk"
      }
    },
    {
      "cell_type": "code",
      "source": [
        "# BB\n",
        "x=L[1][0]\n",
        "x"
      ],
      "metadata": {
        "colab": {
          "base_uri": "https://localhost:8080/",
          "height": 35
        },
        "id": "l5ktdcmvaMXh",
        "outputId": "11350a7b-3213-4ad5-ecf2-e044a1cb30a6"
      },
      "execution_count": null,
      "outputs": [
        {
          "output_type": "execute_result",
          "data": {
            "text/plain": [
              "'BB'"
            ],
            "application/vnd.google.colaboratory.intrinsic+json": {
              "type": "string"
            }
          },
          "metadata": {},
          "execution_count": 2
        }
      ]
    },
    {
      "cell_type": "code",
      "source": [
        "# G\n",
        "X=L[2]\n",
        "X"
      ],
      "metadata": {
        "colab": {
          "base_uri": "https://localhost:8080/",
          "height": 35
        },
        "id": "GH1pcRF-aXWK",
        "outputId": "7c2109d8-64a2-4524-a259-33f6c17bdfb4"
      },
      "execution_count": null,
      "outputs": [
        {
          "output_type": "execute_result",
          "data": {
            "text/plain": [
              "'G'"
            ],
            "application/vnd.google.colaboratory.intrinsic+json": {
              "type": "string"
            }
          },
          "metadata": {},
          "execution_count": 3
        }
      ]
    },
    {
      "cell_type": "code",
      "source": [
        "# CCC\n",
        "X=L[1][1][0]\n",
        "X"
      ],
      "metadata": {
        "colab": {
          "base_uri": "https://localhost:8080/",
          "height": 35
        },
        "id": "suUSnAwVamt6",
        "outputId": "73d7476f-ea27-4913-c575-0082cdc9b6d2"
      },
      "execution_count": null,
      "outputs": [
        {
          "output_type": "execute_result",
          "data": {
            "text/plain": [
              "'CCC'"
            ],
            "application/vnd.google.colaboratory.intrinsic+json": {
              "type": "string"
            }
          },
          "metadata": {},
          "execution_count": 4
        }
      ]
    },
    {
      "cell_type": "code",
      "source": [
        "# ['CCC', 'DDD']\n",
        "X=L[1][1]\n",
        "X"
      ],
      "metadata": {
        "colab": {
          "base_uri": "https://localhost:8080/"
        },
        "id": "FCHJOjFvaz9H",
        "outputId": "d11e8a29-c6f2-4ba4-afa7-bcc28ebbcbb9"
      },
      "execution_count": null,
      "outputs": [
        {
          "output_type": "execute_result",
          "data": {
            "text/plain": [
              "['CCC', 'DDD']"
            ]
          },
          "metadata": {},
          "execution_count": 5
        }
      ]
    },
    {
      "cell_type": "code",
      "source": [
        "# IIII\n",
        "X=L[1][3][0]\n",
        "X"
      ],
      "metadata": {
        "colab": {
          "base_uri": "https://localhost:8080/",
          "height": 35
        },
        "id": "UyLRYUiUbD5T",
        "outputId": "e2e6bec8-52db-4c5f-b039-ca1c09d80148"
      },
      "execution_count": null,
      "outputs": [
        {
          "output_type": "execute_result",
          "data": {
            "text/plain": [
              "'IIII'"
            ],
            "application/vnd.google.colaboratory.intrinsic+json": {
              "type": "string"
            }
          },
          "metadata": {},
          "execution_count": 6
        }
      ]
    },
    {
      "cell_type": "code",
      "source": [
        "# LLLLL\n",
        "X=L[1][3][2][1]\n",
        "X"
      ],
      "metadata": {
        "colab": {
          "base_uri": "https://localhost:8080/",
          "height": 35
        },
        "id": "FV-5F5EMbzkU",
        "outputId": "c326f539-2f94-480f-bb4d-33eedc31f624"
      },
      "execution_count": null,
      "outputs": [
        {
          "output_type": "execute_result",
          "data": {
            "text/plain": [
              "'LLLLL'"
            ],
            "application/vnd.google.colaboratory.intrinsic+json": {
              "type": "string"
            }
          },
          "metadata": {},
          "execution_count": 7
        }
      ]
    },
    {
      "cell_type": "code",
      "source": [
        "# (\"IIII\", \"JJJJ\", (\"KKKKK\", \"LLLLL\"))\n",
        "X=L[1][3]\n",
        "X"
      ],
      "metadata": {
        "colab": {
          "base_uri": "https://localhost:8080/"
        },
        "id": "puO_iIEAcQVG",
        "outputId": "55f12b55-acea-45e6-82b3-cb6bde56a88b"
      },
      "execution_count": null,
      "outputs": [
        {
          "output_type": "execute_result",
          "data": {
            "text/plain": [
              "('IIII', 'JJJJ', ('KKKKK', 'LLLLL'))"
            ]
          },
          "metadata": {},
          "execution_count": 8
        }
      ]
    },
    {
      "cell_type": "code",
      "source": [
        "# ['CCC', 'DDD'], 'EE'\n",
        "X=L[1][1:3:]\n",
        "X"
      ],
      "metadata": {
        "colab": {
          "base_uri": "https://localhost:8080/"
        },
        "id": "DYGtCDL3dfnj",
        "outputId": "c5f1a09d-0371-437a-c569-14ba3cbb2cf2"
      },
      "execution_count": null,
      "outputs": [
        {
          "output_type": "execute_result",
          "data": {
            "text/plain": [
              "[['CCC', 'DDD'], 'EE']"
            ]
          },
          "metadata": {},
          "execution_count": 14
        }
      ]
    },
    {
      "cell_type": "code",
      "source": [
        "# [['CCC', 'DDD'], (\"IIII\", \"JJJJ\", (\"KKKKK\", \"LLLLL\"))]\n",
        "X=L[1][1::2]\n",
        "X"
      ],
      "metadata": {
        "colab": {
          "base_uri": "https://localhost:8080/"
        },
        "id": "NVuyjWtVdz8f",
        "outputId": "85b41f3f-8a85-4311-ee70-141441873d01"
      },
      "execution_count": null,
      "outputs": [
        {
          "output_type": "execute_result",
          "data": {
            "text/plain": [
              "[['CCC', 'DDD'], ('IIII', 'JJJJ', ('KKKKK', 'LLLLL'))]"
            ]
          },
          "metadata": {},
          "execution_count": 18
        }
      ]
    },
    {
      "cell_type": "markdown",
      "source": [
        "# **Task 2**"
      ],
      "metadata": {
        "id": "tAUk0CVwUyAF"
      }
    },
    {
      "cell_type": "markdown",
      "source": [
        "**For the given list of dictionaries:**"
      ],
      "metadata": {
        "id": "j7yhM1xBVvxd"
      }
    },
    {
      "cell_type": "code",
      "source": [
        "#@title click here to extend the cell\n",
        "\n",
        "listData = [\n",
        "\n",
        "    {\"A\": [\n",
        "        {\"1\": \"a\"},\n",
        "        {\"2\": \"aa\"},\n",
        "        {\"3\": \"aaa\"},\n",
        "        {\"3\": \"aaaa\"}\n",
        "    ]\n",
        "    },\n",
        "\n",
        "    {\"B\": [\n",
        "        {\"1\": \"b\"},\n",
        "        {\"2\": \"bb\"},\n",
        "        {\"3\": \"bbb\"},\n",
        "        {\"4\": \"bbbb\"}\n",
        "    ]\n",
        "    }\n",
        "\n",
        "    ,\n",
        "\n",
        "    {\"C\": [\n",
        "        {\"1\": \"c\"},\n",
        "        {\"2\": \"cc\"},\n",
        "        {\"3\": \"ccc\"},\n",
        "        {\"4\": \"cccc\"}\n",
        "    ]\n",
        "    },\n",
        "    {\"info\": {\n",
        "        \"country\": \"Jordan\",\n",
        "        \"city\": \"Amman\",\n",
        "        \"phoneNo\": [\n",
        "            \"+962111111111\",\n",
        "            \"02123456\",\n",
        "            \"12343456\"\n",
        "        ],\n",
        "\n",
        "        \"address\": {\n",
        "            \"address1\": \"Jordan-Amman-str1\",\n",
        "            \"address2\": \"Jordan-Irbid-str5\"\n",
        "        }}\n",
        "\n",
        "    }\n",
        "\n",
        "]\n",
        "\n"
      ],
      "metadata": {
        "id": "SoficaD8-IN4",
        "cellView": "form"
      },
      "execution_count": null,
      "outputs": []
    },
    {
      "cell_type": "markdown",
      "source": [
        "> **Extract the following items from the list:**\n",
        "\n",
        ">1. ['A', 'B', 'C']\n",
        "2. 'bbbb'\n",
        "3. [{'1': 'c'}, {'2': 'cc'}, {'3': 'ccc'}]\n",
        "4. 'Amman'\n",
        "5. '12343456'\n",
        "6. ['+962111111111', '02123456']\n",
        "7. 'Jordan-Irbid-str5'"
      ],
      "metadata": {
        "id": "Yu8p7lEZV0vZ"
      }
    },
    {
      "cell_type": "code",
      "source": [
        "# ['A', 'B', 'C']"
      ],
      "metadata": {
        "id": "e-Oewf6NygJ3"
      },
      "execution_count": null,
      "outputs": []
    },
    {
      "cell_type": "code",
      "source": [
        "# 'bbbb'\n",
        "value=listData[1][\"B\"][3][\"4\"]\n",
        "print(value)"
      ],
      "metadata": {
        "colab": {
          "base_uri": "https://localhost:8080/"
        },
        "id": "qq1lAHcOxzOo",
        "outputId": "b1788da2-eee1-4d1a-c6cd-b3888668b598"
      },
      "execution_count": null,
      "outputs": [
        {
          "output_type": "stream",
          "name": "stdout",
          "text": [
            "bbbb\n"
          ]
        }
      ]
    },
    {
      "cell_type": "code",
      "source": [
        "# [{'1': 'c'}, {'2': 'cc'}, {'3': 'ccc'}]\n",
        "value=listData[2][\"C\"][0:3]\n",
        "print(value)"
      ],
      "metadata": {
        "colab": {
          "base_uri": "https://localhost:8080/"
        },
        "id": "mIXxV7aeyl4-",
        "outputId": "726ef553-e0d3-489a-a903-4c27494d8231"
      },
      "execution_count": null,
      "outputs": [
        {
          "output_type": "stream",
          "name": "stdout",
          "text": [
            "[{'1': 'c'}, {'2': 'cc'}, {'3': 'ccc'}]\n"
          ]
        }
      ]
    },
    {
      "cell_type": "code",
      "source": [
        "# 'Amman'\n",
        "value=listData[3][\"info\"][\"city\"]\n",
        "print(value)\n"
      ],
      "metadata": {
        "colab": {
          "base_uri": "https://localhost:8080/"
        },
        "id": "2ivsLSUaylS0",
        "outputId": "8a910bed-cd06-4959-f318-78ce4d24182b"
      },
      "execution_count": null,
      "outputs": [
        {
          "output_type": "stream",
          "name": "stdout",
          "text": [
            "Amman\n"
          ]
        }
      ]
    },
    {
      "cell_type": "code",
      "source": [
        "# '12343456'\n",
        "value=listData[3][\"info\"][ \"phoneNo\"][2]\n",
        "print(value)\n"
      ],
      "metadata": {
        "colab": {
          "base_uri": "https://localhost:8080/"
        },
        "id": "2m4WFYijz1-M",
        "outputId": "c538d7ad-c64f-4fc1-af12-c1483d59161e"
      },
      "execution_count": null,
      "outputs": [
        {
          "output_type": "stream",
          "name": "stdout",
          "text": [
            "12343456\n"
          ]
        }
      ]
    },
    {
      "cell_type": "code",
      "source": [
        "# ['+962111111111', '02123456']\n",
        "value=listData[3][\"info\"][ \"phoneNo\"][0:2]\n",
        "print(value)"
      ],
      "metadata": {
        "colab": {
          "base_uri": "https://localhost:8080/"
        },
        "id": "m2ia9MOhz62l",
        "outputId": "dd3e6fc9-3968-4a56-c7c2-55787acbd126"
      },
      "execution_count": null,
      "outputs": [
        {
          "output_type": "stream",
          "name": "stdout",
          "text": [
            "['+962111111111', '02123456']\n"
          ]
        }
      ]
    },
    {
      "cell_type": "code",
      "source": [
        "# 'Jordan-Irbid-str5'\n",
        "\n",
        "value=listData[3][\"info\"][\"address\"][\"address2\"]\n",
        "print(value)"
      ],
      "metadata": {
        "colab": {
          "base_uri": "https://localhost:8080/"
        },
        "id": "xdwMPEogz8iL",
        "outputId": "4eda757e-af1a-4154-b87a-9e02584ca1e5"
      },
      "execution_count": null,
      "outputs": [
        {
          "output_type": "stream",
          "name": "stdout",
          "text": [
            "Jordan-Irbid-str5\n"
          ]
        }
      ]
    },
    {
      "cell_type": "markdown",
      "source": [
        "# **Task 3**"
      ],
      "metadata": {
        "id": "vT8D-EzaU18P"
      }
    },
    {
      "cell_type": "markdown",
      "source": [
        "**For the given dictionary:**"
      ],
      "metadata": {
        "id": "t3hYr8w8WQWE"
      }
    },
    {
      "cell_type": "code",
      "source": [
        "#@title click here to extend the cell\n",
        "\n",
        "dictPatientsData = {\n",
        "  \"timelines\": [\n",
        "    {\n",
        "      \"date\": \"2022-08-07T00:00:00\",\n",
        "      \"doctorName\": \"Dr Mahmoud\",\n",
        "      \"doctorId\": 101034,\n",
        "      \"encounterNumber\": 10443,\n",
        "      \"doctorImage\": \"medical-icon-registration\",\n",
        "      \"projectID\": 70,\n",
        "      \"projectName\": \"WebEMR UAT Hospital\",\n",
        "      \"clinicId\": 1,\n",
        "      \"clinicName\": \"INTERNAL MEDICINE CLINIC\",\n",
        "      \"timeLineEvents\": [\n",
        "        {\n",
        "          \"eventId\": 1,\n",
        "          \"iconClass\": \"fa fa-lg fa-stethoscope\",\n",
        "          \"colorClass\": \"bg-green\",\n",
        "          \"toolTip\": \"OPD Consultation detail\",\n",
        "          \"isDisabled\": False,\n",
        "          \"consulations\": [\n",
        "            {\n",
        "              \"dispalyName\": \"Episode\",\n",
        "              \"doctorID\": 101034,\n",
        "              \"patientID\": 123456,\n",
        "              \"doctorName\": \"Dr Mahmoud Hammouri\",\n",
        "              \"appointmentNo\": 10443,\n",
        "              \"episodeID\": 220011080,\n",
        "              \"admissionNo\": 0,\n",
        "              \"appointmentDate\": \"2022-08-07T00:00:00\",\n",
        "              \"episodeDate\": \"2022-08-07T00:00:00\"\n",
        "            }\n",
        "          ]\n",
        "        }\n",
        "      ]\n",
        "    },\n",
        "    {\n",
        "      \"date\": \"2022-07-31T00:00:00\",\n",
        "      \"doctorName\": \"Dr Mahmoud\",\n",
        "      \"doctorId\": 101044,\n",
        "      \"encounterNumber\": 10424,\n",
        "      \"doctorImage\": \"medical-icon-registration\",\n",
        "      \"projectID\": 70,\n",
        "      \"projectName\": \"WebEMR UAT Hospital\",\n",
        "      \"clinicId\": 31,\n",
        "      \"clinicName\": \"PSYCHIATRY\",\n",
        "      \"timeLineEvents\": [\n",
        "        {\n",
        "          \"eventId\": 1,\n",
        "          \"iconClass\": \"fa fa-lg fa-stethoscope\",\n",
        "          \"colorClass\": \"bg-green\",\n",
        "          \"toolTip\": \"OPD Consultation detail\",\n",
        "          \"isDisabled\": False,\n",
        "          \"consulations\": [\n",
        "            {\n",
        "              \"dispalyName\": \"Episode\",\n",
        "              \"doctorID\": 101044,\n",
        "              \"patientID\": 123456,\n",
        "              \"doctorName\": \"Dr Mahmoud\",\n",
        "              \"appointmentNo\": 10424,\n",
        "              \"episodeID\": 220011072,\n",
        "              \"admissionNo\": 0,\n",
        "              \"appointmentDate\": \"2022-07-31T00:00:00\",\n",
        "              \"episodeDate\": \"2022-07-31T00:00:00\"\n",
        "            }\n",
        "          ]\n",
        "        }\n",
        "      ]\n",
        "    },\n",
        "    {\n",
        "      \"date\": \"2022-07-28T00:00:00\",\n",
        "      \"doctorName\": \"Dr Bahaa\",\n",
        "      \"doctorId\": 101044,\n",
        "      \"encounterNumber\": 10423,\n",
        "      \"doctorImage\": \"medical-icon-registration\",\n",
        "      \"projectID\": 70,\n",
        "      \"projectName\": \"WebEMR UAT Hospital\",\n",
        "      \"clinicId\": 31,\n",
        "      \"clinicName\": \"PSYCHIATRY\",\n",
        "      \"timeLineEvents\": [\n",
        "        {\n",
        "          \"eventId\": 1,\n",
        "          \"iconClass\": \"fa fa-lg fa-stethoscope\",\n",
        "          \"colorClass\": \"bg-green\",\n",
        "          \"toolTip\": \"OPD Consultation detail\",\n",
        "          \"isDisabled\": False,\n",
        "          \"consulations\": [\n",
        "            {\n",
        "              \"dispalyName\": \"Episode\",\n",
        "              \"doctorID\": 101044,\n",
        "              \"patientID\": 123456,\n",
        "              \"doctorName\": \"Dr Bahaa\",\n",
        "              \"appointmentNo\": 10423,\n",
        "              \"episodeID\": 220011072,\n",
        "              \"admissionNo\": 0,\n",
        "              \"appointmentDate\": \"2022-07-28T00:00:00\",\n",
        "              \"episodeDate\": \"2022-07-28T00:00:00\"\n",
        "            }\n",
        "          ]\n",
        "        }\n",
        "      ]\n",
        "    },\n",
        "    {\n",
        "      \"date\": \"2022-06-02T00:00:00\",\n",
        "      \"doctorName\": \"Dr Mahmoud\",\n",
        "      \"doctorId\": 101034,\n",
        "      \"encounterNumber\": 10057,\n",
        "      \"doctorImage\": \"medical-icon-registration\",\n",
        "      \"projectID\": 70,\n",
        "      \"projectName\": \"WebEMR UAT Hospital\",\n",
        "      \"clinicId\": 1,\n",
        "      \"clinicName\": \"INTERNAL MEDICINE CLINIC\",\n",
        "      \"timeLineEvents\": [\n",
        "        {\n",
        "          \"eventId\": 1,\n",
        "          \"iconClass\": \"fa fa-lg fa-stethoscope\",\n",
        "          \"colorClass\": \"bg-green\",\n",
        "          \"toolTip\": \"OPD Consultation detail\",\n",
        "          \"isDisabled\": False,\n",
        "          \"consulations\": [\n",
        "            {\n",
        "              \"dispalyName\": \"Episode\",\n",
        "              \"doctorID\": 101034,\n",
        "              \"patientID\": 123456,\n",
        "              \"doctorName\": \"Dr Mahmoud\",\n",
        "              \"appointmentNo\": 10057,\n",
        "              \"episodeID\": 220011057,\n",
        "              \"admissionNo\": 0,\n",
        "              \"appointmentDate\": \"2022-06-02T00:00:00\",\n",
        "              \"episodeDate\": \"2022-06-02T00:00:00\"\n",
        "            }\n",
        "          ]\n",
        "        }\n",
        "      ]\n",
        "    }\n",
        "  ]\n",
        "}\n",
        "\n"
      ],
      "metadata": {
        "id": "jP1ZWnghLzIF",
        "colab": {
          "base_uri": "https://localhost:8080/"
        },
        "outputId": "05caf636-e67e-4b62-b896-30fa47672b1d"
      },
      "execution_count": 5,
      "outputs": [
        {
          "output_type": "stream",
          "name": "stdout",
          "text": [
            "['date', 'doctorName', 'doctorId', 'encounterNumber', 'doctorImage']\n"
          ]
        }
      ]
    },
    {
      "cell_type": "markdown",
      "source": [
        "> **Extract the following info from the dictionary:**\n",
        "\n",
        ">1.  ['date', 'doctorName', 'doctorId', 'encounterNumber', 'doctorImage']\n",
        "2. Dr Mahmoud Hammouri\n"
      ],
      "metadata": {
        "id": "E8-1GOPiWxqp"
      }
    },
    {
      "cell_type": "code",
      "source": [
        "\n",
        "# ['date', 'doctorName', 'doctorId', 'encounterNumber', 'doctorImage']\n",
        "\n",
        "print(list(dictPatientsData[\"timelines\"][0].keys())[:5])\n"
      ],
      "metadata": {
        "colab": {
          "base_uri": "https://localhost:8080/"
        },
        "id": "nOVjbGmB3tGA",
        "outputId": "9ed7e65e-34cd-488c-9f87-10c6d60d9c91"
      },
      "execution_count": 6,
      "outputs": [
        {
          "output_type": "stream",
          "name": "stdout",
          "text": [
            "['date', 'doctorName', 'doctorId', 'encounterNumber', 'doctorImage']\n"
          ]
        }
      ]
    },
    {
      "cell_type": "code",
      "source": [
        "# Dr Mahmoud Hammouri\n",
        "data=dictPatientsData[\"timelines\"][0][\"timeLineEvents\"][0][\"consulations\"][0][\"doctorName\"]\n",
        "print(data)\n"
      ],
      "metadata": {
        "colab": {
          "base_uri": "https://localhost:8080/"
        },
        "id": "V15wpdBAInoo",
        "outputId": "199d4ee7-99f3-4dd3-8fed-fce3dcb8f5b8"
      },
      "execution_count": null,
      "outputs": [
        {
          "output_type": "stream",
          "name": "stdout",
          "text": [
            "Dr Mahmoud Hammouri\n"
          ]
        }
      ]
    },
    {
      "cell_type": "markdown",
      "source": [
        "# **The End**\n",
        "\n",
        "\n",
        "---\n",
        "\n",
        "![image.png](data:image/png;base64,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)"
      ],
      "metadata": {
        "id": "Ko0kvHNIqVZu"
      }
    }
  ]
}